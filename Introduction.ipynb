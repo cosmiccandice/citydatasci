{
 "cells": [
  {
   "cell_type": "markdown",
   "metadata": {},
   "source": [
    "# **Python Basics for City Data**\n",
    "## An Introductory Tutorial Using Chicago's Municipal Datasets\n",
    "***\n",
    "## INTRODUCTION\n",
    "***"
   ]
  },
  {
   "cell_type": "markdown",
   "metadata": {},
   "source": [
    "### **Overview**\n",
    "\n",
    "This introduction to the tutorial will provide a concise overview of Python and its benefits. In this notebook, we will also set up some fundamental Python tools (libraries) that are essential for the upcoming tutorials and many Python projects. \n",
    "\n",
    "For those already familiar with or uninterested in the background of what Python and Jupyter Notebooks are, **this introduction is optional.**\n",
    "However, make sure **all of the necessary libraries (listed in the last section of this notebook) are installed to complete the rest of the tutorial.**\n",
    "\n",
    "<br>\n",
    "\n",
    "***"
   ]
  },
  {
   "cell_type": "markdown",
   "metadata": {},
   "source": [
    "#### **What is Python?**\n",
    "##### Python is a versatile, high-level programming language known for its readability and efficiency. \n",
    "<br>\n",
    "\n",
    "***"
   ]
  },
  {
   "cell_type": "markdown",
   "metadata": {},
   "source": [
    "#### **Why Use Python?** <br>\n",
    "Below are four reasons (among many) why Python is a great tool for data analysts, scientists, and profesionals:\n",
    "\n",
    "\n",
    "\n",
    "**1. Handles Big Data:** Python can work with much larger amounts of data than Excel, which is essential for city-scale data.\n",
    "\n",
    "**2. Ready-to-Use Tools:** It has a lot of built-in tools (called 'libraries') that make common data tasks, like organizing and visualizing data, much easier and faster.\n",
    "\n",
    "**3. Saves Time:** Python can automate repetitive data tasks, reducing time and effort.\n",
    "\n",
    "**4. Strong Support Community:** A large number of users and experts contribute to a supportive community, making it easier to find help and resources.\n",
    "\n",
    "<br>\n",
    "\n",
    "***"
   ]
  },
  {
   "cell_type": "markdown",
   "metadata": {},
   "source": [
    "#### **Python Advantages** <br>\n",
    "##### Data professionals frequently rely on tools like Excel and R for data analysis. However, there are scenarios where Python may be a more suitable choice, either as a complement or as a replacement for these tools. Here are the key reasons that make Python a compelling option:\n",
    "\n",
    "\n",
    "* **Python vs. Excel:** Python stands out as a superior choice for city data professionals for several reasons. Its scripting capability meticulously logs every analysis step, facilitating easy replication with everything from cleaning data to robust data analysis - a stark contrast to Excel, where tracing steps can be challenging. Code sharing in Python **promotes consistent, transparent outcomes.** Additionally, Python's adaptability in integrating with multiple data sources significantly broadens its applicability across various projects, unlike Excel.\n",
    "\n",
    "* **Python vs. R:** The choice between Python and R for data analysis often hinges on the project's specific requirements and the user's comfort with each language, as both have their merits. However, Python is often favored over R for several reasons: its status as a general-purpose language makes it suitable for a broad array of tasks beyond data analysis, including automation and software development. Python's scalability means it can handle large-scale data processing tasks more efficiently than R. Additionally, Python is widely recognized for its strengths in Machine Learning and Artificial Intelligence, supported by robust libraries like TensorFlow and Scikit-learn, whereas R is traditionally known for its statistical analysis capabilities.\n",
    "\n",
    "<br>\n",
    "\n",
    "***"
   ]
  },
  {
   "cell_type": "markdown",
   "metadata": {},
   "source": [
    "#### **Jupyter Notebooks** <br>\n",
    "##### Python is often  written in a basic Python script, which is typically saved with a **'.py'** extension. Scripts are often used for automating tasks and running applications. \n",
    "\n",
    "##### This tutorial is written using a **Jupyter Notebook\"** (typcially saved with a **'.ipynb'** extension) which is an interactive application we can write Python in. \n",
    "\n",
    "##### Both Jupyter Notebooks and basic Python scripts are useful in data science and data analystics. We might choose to use a Jupyter notebook over a Python script when analyzing city data because: \n",
    "\n",
    "* **Interactivity:** Jupyter Notebooks allow for interactive coding, where you can write, run, and modify code in chunks (cells) and see the output immediately. <br>\n",
    "\n",
    "* **Integration of Code and Documentation:** Notebooks enable the integration of code with rich text, equations, and visualizations, making them ideal for data analysis, teaching, and presenting results.\n",
    "\n",
    "* **Ease of Visualization:** They make it easy to create and display plots and charts inline, directly below the code that generates them.\n",
    "\n",
    "* **Experimentation and Exploration:** Notebooks are great for experimenting with code and data due to their interactive nature, allowing for immediate feedback and iterative exploration.\n",
    "\n",
    "* **Sharing and Collaboration:** Jupyter Notebooks are easily shareable as complete computational narratives, making them useful for collaborative projects and educational purposes.\n",
    "\n",
    "\n",
    "<br>\n",
    "\n",
    "***"
   ]
  },
  {
   "cell_type": "markdown",
   "metadata": {},
   "source": [
    "#### **Installing Basic Python Libaries Step-by-Step** <br>\n",
    "##### There are many very useful libaries in Python. We will only be using a few of the basic Python libaries that are widely used in almost all Python projects. The libaries we will install are:\n",
    "\n",
    "* Numpy\n",
    "* Pandas\n",
    "* Matplotlib\n",
    "* Scikit-Learn"
   ]
  },
  {
   "cell_type": "markdown",
   "metadata": {},
   "source": [
    "**Select each cell below and press \"Shift\" and \"Enter\" at the same time to run the code and install the libary**\n",
    "\n",
    "It may take a few minutes to install."
   ]
  },
  {
   "cell_type": "code",
   "execution_count": null,
   "metadata": {},
   "outputs": [],
   "source": [
    "pip install numpy"
   ]
  },
  {
   "cell_type": "code",
   "execution_count": null,
   "metadata": {},
   "outputs": [],
   "source": [
    "pip install pandas"
   ]
  },
  {
   "cell_type": "code",
   "execution_count": null,
   "metadata": {},
   "outputs": [],
   "source": [
    "pip install matplotlib"
   ]
  },
  {
   "cell_type": "code",
   "execution_count": null,
   "metadata": {},
   "outputs": [],
   "source": [
    "pip install -U scikit-learn"
   ]
  },
  {
   "cell_type": "markdown",
   "metadata": {},
   "source": [
    "**If the outputs all say that the packages were successfully installed, then congratulations! You have all of the necessary libraries and you can complete the rest of the tutorials starting with Part 1.**"
   ]
  }
 ],
 "metadata": {
  "kernelspec": {
   "display_name": "Python 3",
   "language": "python",
   "name": "python3"
  },
  "language_info": {
   "codemirror_mode": {
    "name": "ipython",
    "version": 3
   },
   "file_extension": ".py",
   "mimetype": "text/x-python",
   "name": "python",
   "nbconvert_exporter": "python",
   "pygments_lexer": "ipython3",
   "version": "3.12.1"
  }
 },
 "nbformat": 4,
 "nbformat_minor": 2
}
