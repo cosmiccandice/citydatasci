{
 "cells": [
  {
   "cell_type": "markdown",
   "metadata": {},
   "source": [
    "# <Center>  **Python Basics for City Data**<Center>\n",
    "## Part II: Analyzing Chicago Public Schools Performance with Regional Data\n",
    "\n",
    "**Overview and Data** <br/>\n",
    "This tutorial delves into the exploration and predictive analysis of a comprehensive crime dataset from Chicago, covering incidents from the past year. The dataset features detailed records such as the type, location, and time of crimes, along with arrest outcomes. This real-world data provides a foundation for understanding the patterns and dynamics of urban crime.\n",
    "\n",
    "**Technical Skills** <br/>\n",
    "Develop and refine technical skills in Python programming, data manipulation with pandas, and exploratory data analysis techniques. Additionally, the tutorial covers predictive modeling fundamentals using scikit-learn, focusing on data preprocessing, feature engineering, and the deployment of machine learning algorithms. This segment is designed to provide hands-on experience, making it ideal for those interested in applying data science methodologies to societal issues.\n",
    "\n",
    "*This tutorial builds upon the concepts introduced in Part I. If you are new to Python, it is recommended that you begin with that section.*\n",
    "\n",
    "***"
   ]
  },
  {
   "cell_type": "markdown",
   "metadata": {},
   "source": [
    "## **1. Import Libraries and Read-In Data**"
   ]
  },
  {
   "cell_type": "code",
   "execution_count": 1,
   "metadata": {},
   "outputs": [],
   "source": [
    "# Importing necessary libraries\n",
    "import pandas as pd\n",
    "from sklearn.model_selection import train_test_split\n",
    "from sklearn.preprocessing import LabelEncoder\n",
    "from sklearn.ensemble import RandomForestClassifier\n",
    "from sklearn.metrics import accuracy_score, confusion_matrix\n",
    "import matplotlib.pyplot as plt\n",
    "import seaborn as sns\n",
    "\n",
    "import warnings\n",
    "warnings.filterwarnings(\"ignore\")"
   ]
  },
  {
   "cell_type": "code",
   "execution_count": 2,
   "metadata": {},
   "outputs": [
    {
     "data": {
      "text/html": [
       "<div>\n",
       "<style scoped>\n",
       "    .dataframe tbody tr th:only-of-type {\n",
       "        vertical-align: middle;\n",
       "    }\n",
       "\n",
       "    .dataframe tbody tr th {\n",
       "        vertical-align: top;\n",
       "    }\n",
       "\n",
       "    .dataframe thead th {\n",
       "        text-align: right;\n",
       "    }\n",
       "</style>\n",
       "<table border=\"1\" class=\"dataframe\">\n",
       "  <thead>\n",
       "    <tr style=\"text-align: right;\">\n",
       "      <th></th>\n",
       "      <th>CASE#</th>\n",
       "      <th>DATE OF OCCURRENCE</th>\n",
       "      <th>BLOCK</th>\n",
       "      <th>IUCR</th>\n",
       "      <th>PRIMARY DESCRIPTION</th>\n",
       "      <th>SECONDARY DESCRIPTION</th>\n",
       "      <th>LOCATION DESCRIPTION</th>\n",
       "      <th>ARREST</th>\n",
       "      <th>DOMESTIC</th>\n",
       "      <th>BEAT</th>\n",
       "      <th>WARD</th>\n",
       "      <th>FBI CD</th>\n",
       "      <th>X COORDINATE</th>\n",
       "      <th>Y COORDINATE</th>\n",
       "      <th>LATITUDE</th>\n",
       "      <th>LONGITUDE</th>\n",
       "      <th>LOCATION</th>\n",
       "    </tr>\n",
       "  </thead>\n",
       "  <tbody>\n",
       "    <tr>\n",
       "      <th>0</th>\n",
       "      <td>JG497095</td>\n",
       "      <td>11/08/2023 08:50:00 PM</td>\n",
       "      <td>025XX N KEDZIE BLVD</td>\n",
       "      <td>0810</td>\n",
       "      <td>THEFT</td>\n",
       "      <td>OVER $500</td>\n",
       "      <td>STREET</td>\n",
       "      <td>N</td>\n",
       "      <td>N</td>\n",
       "      <td>1414</td>\n",
       "      <td>35.0</td>\n",
       "      <td>06</td>\n",
       "      <td>1154609.0</td>\n",
       "      <td>1916759.0</td>\n",
       "      <td>41.927407</td>\n",
       "      <td>-87.707294</td>\n",
       "      <td>(41.927407329, -87.70729439)</td>\n",
       "    </tr>\n",
       "    <tr>\n",
       "      <th>1</th>\n",
       "      <td>JG496991</td>\n",
       "      <td>11/08/2023 03:14:00 PM</td>\n",
       "      <td>0000X W CHICAGO AVE</td>\n",
       "      <td>0560</td>\n",
       "      <td>ASSAULT</td>\n",
       "      <td>SIMPLE</td>\n",
       "      <td>STREET</td>\n",
       "      <td>N</td>\n",
       "      <td>N</td>\n",
       "      <td>1832</td>\n",
       "      <td>42.0</td>\n",
       "      <td>08A</td>\n",
       "      <td>1176106.0</td>\n",
       "      <td>1905725.0</td>\n",
       "      <td>41.896672</td>\n",
       "      <td>-87.628635</td>\n",
       "      <td>(41.896671699, -87.628635323)</td>\n",
       "    </tr>\n",
       "    <tr>\n",
       "      <th>2</th>\n",
       "      <td>JG497145</td>\n",
       "      <td>11/08/2023 10:55:00 PM</td>\n",
       "      <td>019XX W 47TH ST</td>\n",
       "      <td>051A</td>\n",
       "      <td>ASSAULT</td>\n",
       "      <td>AGGRAVATED - HANDGUN</td>\n",
       "      <td>SIDEWALK</td>\n",
       "      <td>N</td>\n",
       "      <td>N</td>\n",
       "      <td>931</td>\n",
       "      <td>15.0</td>\n",
       "      <td>04A</td>\n",
       "      <td>1164331.0</td>\n",
       "      <td>1873509.0</td>\n",
       "      <td>41.808525</td>\n",
       "      <td>-87.672793</td>\n",
       "      <td>(41.808525157, -87.672792896)</td>\n",
       "    </tr>\n",
       "    <tr>\n",
       "      <th>3</th>\n",
       "      <td>JG496701</td>\n",
       "      <td>11/08/2023 04:39:00 PM</td>\n",
       "      <td>025XX W BALMORAL AVE</td>\n",
       "      <td>502P</td>\n",
       "      <td>OTHER OFFENSE</td>\n",
       "      <td>FALSE / STOLEN / ALTERED TRP</td>\n",
       "      <td>STREET</td>\n",
       "      <td>N</td>\n",
       "      <td>N</td>\n",
       "      <td>2011</td>\n",
       "      <td>40.0</td>\n",
       "      <td>26</td>\n",
       "      <td>1158314.0</td>\n",
       "      <td>1935772.0</td>\n",
       "      <td>41.979505</td>\n",
       "      <td>-87.693158</td>\n",
       "      <td>(41.979505088, -87.693158103)</td>\n",
       "    </tr>\n",
       "    <tr>\n",
       "      <th>4</th>\n",
       "      <td>JG484195</td>\n",
       "      <td>10/28/2023 07:30:00 PM</td>\n",
       "      <td>067XX S PARNELL AVE</td>\n",
       "      <td>0810</td>\n",
       "      <td>THEFT</td>\n",
       "      <td>OVER $500</td>\n",
       "      <td>APARTMENT</td>\n",
       "      <td>N</td>\n",
       "      <td>N</td>\n",
       "      <td>722</td>\n",
       "      <td>6.0</td>\n",
       "      <td>06</td>\n",
       "      <td>1173732.0</td>\n",
       "      <td>1860233.0</td>\n",
       "      <td>41.771891</td>\n",
       "      <td>-87.638706</td>\n",
       "      <td>(41.771890947, -87.638705659)</td>\n",
       "    </tr>\n",
       "  </tbody>\n",
       "</table>\n",
       "</div>"
      ],
      "text/plain": [
       "      CASE#      DATE OF OCCURRENCE                 BLOCK  IUCR  \\\n",
       "0  JG497095  11/08/2023 08:50:00 PM   025XX N KEDZIE BLVD  0810   \n",
       "1  JG496991  11/08/2023 03:14:00 PM   0000X W CHICAGO AVE  0560   \n",
       "2  JG497145  11/08/2023 10:55:00 PM       019XX W 47TH ST  051A   \n",
       "3  JG496701  11/08/2023 04:39:00 PM  025XX W BALMORAL AVE  502P   \n",
       "4  JG484195  10/28/2023 07:30:00 PM   067XX S PARNELL AVE  0810   \n",
       "\n",
       "  PRIMARY DESCRIPTION         SECONDARY DESCRIPTION LOCATION DESCRIPTION  \\\n",
       "0               THEFT                     OVER $500               STREET   \n",
       "1             ASSAULT                        SIMPLE               STREET   \n",
       "2             ASSAULT          AGGRAVATED - HANDGUN             SIDEWALK   \n",
       "3       OTHER OFFENSE  FALSE / STOLEN / ALTERED TRP               STREET   \n",
       "4               THEFT                     OVER $500            APARTMENT   \n",
       "\n",
       "  ARREST DOMESTIC  BEAT  WARD FBI CD  X COORDINATE  Y COORDINATE   LATITUDE  \\\n",
       "0      N        N  1414  35.0     06     1154609.0     1916759.0  41.927407   \n",
       "1      N        N  1832  42.0    08A     1176106.0     1905725.0  41.896672   \n",
       "2      N        N   931  15.0    04A     1164331.0     1873509.0  41.808525   \n",
       "3      N        N  2011  40.0     26     1158314.0     1935772.0  41.979505   \n",
       "4      N        N   722   6.0     06     1173732.0     1860233.0  41.771891   \n",
       "\n",
       "   LONGITUDE                       LOCATION  \n",
       "0 -87.707294   (41.927407329, -87.70729439)  \n",
       "1 -87.628635  (41.896671699, -87.628635323)  \n",
       "2 -87.672793  (41.808525157, -87.672792896)  \n",
       "3 -87.693158  (41.979505088, -87.693158103)  \n",
       "4 -87.638706  (41.771890947, -87.638705659)  "
      ]
     },
     "execution_count": 2,
     "metadata": {},
     "output_type": "execute_result"
    }
   ],
   "source": [
    "# Load the dataset\n",
    "data = pd.read_csv('../Data/Crimes_one_year_prior_to_present.csv')\n",
    "# Display the first five rows of the dataset\n",
    "data.head()\n"
   ]
  },
  {
   "cell_type": "markdown",
   "metadata": {},
   "source": [
    "## **2. Data Preprocessing**"
   ]
  },
  {
   "cell_type": "code",
   "execution_count": null,
   "metadata": {},
   "outputs": [
    {
     "name": "stdout",
     "output_type": "stream",
     "text": [
      "LabelEncoder()\n"
     ]
    }
   ],
   "source": [
    "# Convert Date columns from string to datetime\n",
    "[DATE COLUMN HERE] = pd.to_datetime([ADD DATE COLUMNS HERE])\n",
    "\n",
    "# Encode categorical variables using LabelEncoder\n",
    "label_encoders = {}\n",
    "for column in [ADD COLS HERE]:\n",
    "    le = LabelEncoder()\n",
    "    data[column] = le.fit_transform([ADD DATA TO TRANSFORM HERE])\n",
    "    label_encoders[column] = le"
   ]
  },
  {
   "cell_type": "markdown",
   "metadata": {},
   "source": [
    "## **3. Exploratory Data Analysis**"
   ]
  },
  {
   "cell_type": "markdown",
   "metadata": {},
   "source": [
    "### 3.1 Produce general statistics of the dataset using `.describe()` operation which helps us understand the distribution of different features."
   ]
  },
  {
   "cell_type": "code",
   "execution_count": null,
   "metadata": {},
   "outputs": [],
   "source": [
    "# General statistics\n"
   ]
  },
  {
   "cell_type": "markdown",
   "metadata": {},
   "source": [
    "### 3.2 Visualize the most common types of crimes reported in the dataset "
   ]
  },
  {
   "cell_type": "code",
   "execution_count": null,
   "metadata": {},
   "outputs": [],
   "source": [
    "# Visualizing crime types\n",
    "plt.figure(figsize=(10, 6))\n",
    "sns.countplot(y=['PRIMARY DESCRIPTION'], data=[add data here], order = [data here].value_counts().index)\n",
    "plt.title('Distribution of Crime Types')\n",
    "plt.show()\n",
    "\n",
    "# Add original labels back in. "
   ]
  },
  {
   "cell_type": "markdown",
   "metadata": {},
   "source": [
    "## **4.Feature Selection**\n",
    "\n",
    "Select relevant features based on our domain knowledge and preliminary data analysis. For example, we expect that the location and type of crime could influence the likelihood of an arrest."
   ]
  },
  {
   "cell_type": "code",
   "execution_count": null,
   "metadata": {},
   "outputs": [],
   "source": [
    "# Selecting relevant features for our model\n",
    "features = [Columns here]\n",
    "X = [features data]\n",
    "y = [arrest data]"
   ]
  },
  {
   "cell_type": "markdown",
   "metadata": {},
   "source": [
    "## **5. Implimenting a Random Forest Classifier**"
   ]
  },
  {
   "cell_type": "markdown",
   "metadata": {},
   "source": [
    "### 5.1 Model Training "
   ]
  },
  {
   "cell_type": "code",
   "execution_count": null,
   "metadata": {},
   "outputs": [],
   "source": [
    "# Splitting the dataset into training and testing sets\n",
    "X_train, X_test, y_train, y_test = train_test_split(X, y, test_size=[test size (float)], random_state=42)\n",
    "\n",
    "#Replace missing values the median values. \n",
    "X_train = X_train.fillna(X_train.median())\n",
    "X_test = X_test.fillna(X_test.median())\n",
    "\n",
    "# Creating and training the model\n",
    "model = RandomForestClassifier(n_estimators=[enter number of estimators here])\n",
    "model.fit([x training data], [y training data]) \n"
   ]
  },
  {
   "cell_type": "markdown",
   "metadata": {},
   "source": [
    "### 5.2  Model Evaluation "
   ]
  },
  {
   "cell_type": "markdown",
   "metadata": {},
   "source": [
    "#### *5.2.1 Confusion Matrix*"
   ]
  },
  {
   "cell_type": "code",
   "execution_count": 1,
   "metadata": {},
   "outputs": [],
   "source": [
    "# Making predictions and evaluating the model\n",
    "def predict(X_test,y_test):\n",
    "    y_pred = model.predict(X_test)\n",
    "    accuracy = accuracy_score(y_test, y_pred)\n",
    "    conf_matrix = confusion_matrix(y_test, y_pred)\n",
    "    \n",
    "    #Print the accuracy: \n",
    "    print(f\"Accuracy: {accuracy}\")\n",
    "\n",
    "    #Visualize confusion matrix \n",
    "    plt.figure(figsize=(6,6))\n",
    "    sns.heatmap(conf_matrix, annot=True, fmt='d', cmap='Blues', square=True)\n",
    "    plt.xlabel('Predicted Labels')\n",
    "    plt.ylabel('True Labels')\n",
    "    plt.title('Confusion Matrix')\n",
    "    plt.show()\n",
    "    \n",
    "    return y_pred"
   ]
  },
  {
   "cell_type": "code",
   "execution_count": null,
   "metadata": {},
   "outputs": [],
   "source": [
    "predict(X_test,y_test)\n",
    "plt.show()"
   ]
  },
  {
   "cell_type": "markdown",
   "metadata": {},
   "source": [
    "Interpret the result: "
   ]
  },
  {
   "cell_type": "markdown",
   "metadata": {},
   "source": [
    "#### *5.2.2 Feature Importances*"
   ]
  },
  {
   "cell_type": "code",
   "execution_count": null,
   "metadata": {},
   "outputs": [],
   "source": [
    "def feature_importance(X_train):\n",
    "    feature_importances = model.feature_importances_\n",
    "    importances = pd.Series(feature_importances, index=[index here]).sort_values(ascending=False)\n",
    "    print(importances)"
   ]
  },
  {
   "cell_type": "code",
   "execution_count": null,
   "metadata": {},
   "outputs": [
    {
     "name": "stdout",
     "output_type": "stream",
     "text": [
      "IUCR                    0.386190\n",
      "LATITUDE                0.203063\n",
      "LONGITUDE               0.200145\n",
      "LOCATION DESCRIPTION    0.102220\n",
      "BEAT                    0.087633\n",
      "DOMESTIC                0.020748\n",
      "dtype: float64\n"
     ]
    }
   ],
   "source": [
    "feature_importance([features here])"
   ]
  },
  {
   "cell_type": "markdown",
   "metadata": {},
   "source": [
    "## **6. Refining the Model**"
   ]
  },
  {
   "cell_type": "markdown",
   "metadata": {},
   "source": [
    "If the dataset is imbalanced (disproportionate number of 'arrest' vs 'no arrest' cases), use techniques to balance it.\n",
    "\n",
    "* Count the number of arrests to non-arrests. Are they balanced? "
   ]
  },
  {
   "cell_type": "code",
   "execution_count": null,
   "metadata": {},
   "outputs": [
    {
     "data": {
      "text/plain": [
       "ARREST\n",
       "0    227470\n",
       "1     30560\n",
       "Name: count, dtype: int64"
      ]
     },
     "execution_count": 12,
     "metadata": {},
     "output_type": "execute_result"
    }
   ],
   "source": [
    "[data to count values of here].value_counts()"
   ]
  },
  {
   "cell_type": "markdown",
   "metadata": {},
   "source": [
    "Use SMOTE to oversample disproportionate number of arrests vs no arrest "
   ]
  },
  {
   "cell_type": "code",
   "execution_count": null,
   "metadata": {},
   "outputs": [],
   "source": [
    "from imblearn.over_sampling import SMOTE #may need to pip install imblearn\n",
    "\n",
    "# Apply SMOTE for oversampling the minority class\n",
    "smote = SMOTE(random_state=42)\n",
    "X_resampled, y_resampled = smote.fit_resample(<   >, <   >)\n",
    "\n",
    "# Retrain model with balanced data\n",
    "model.fit([x],[y]) "
   ]
  },
  {
   "cell_type": "code",
   "execution_count": null,
   "metadata": {},
   "outputs": [],
   "source": [
    "predict([x],[y])\n",
    "plt.show()"
   ]
  },
  {
   "cell_type": "code",
   "execution_count": null,
   "metadata": {},
   "outputs": [
    {
     "name": "stdout",
     "output_type": "stream",
     "text": [
      "IUCR                    0.423322\n",
      "LATITUDE                0.169191\n",
      "LONGITUDE               0.163513\n",
      "LOCATION DESCRIPTION    0.121421\n",
      "BEAT                    0.099819\n",
      "DOMESTIC                0.022735\n",
      "dtype: float64\n"
     ]
    }
   ],
   "source": [
    "feature_importance([resampled x data]"
   ]
  },
  {
   "cell_type": "markdown",
   "metadata": {},
   "source": [
    "*** \n",
    "\n",
    "# Conclusion\n",
    "In this tutorial, we've gone through the process of analyzing and predicting crime outcomes in Chicago. \n"
   ]
  }
 ],
 "metadata": {
  "kernelspec": {
   "display_name": "base",
   "language": "python",
   "name": "python3"
  },
  "language_info": {
   "codemirror_mode": {
    "name": "ipython",
    "version": 3
   },
   "file_extension": ".py",
   "mimetype": "text/x-python",
   "name": "python",
   "nbconvert_exporter": "python",
   "pygments_lexer": "ipython3",
   "version": "3.12.7"
  }
 },
 "nbformat": 4,
 "nbformat_minor": 2
}
