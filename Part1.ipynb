{
 "cells": [
  {
   "cell_type": "markdown",
   "metadata": {},
   "source": [
    "# **Python Basics for City Data**: An Introductory Tutorial Using Chicago's Municipal Datasets\n",
    "# Tutorial Part I\n",
    "\n",
    "***"
   ]
  },
  {
   "cell_type": "markdown",
   "metadata": {},
   "source": [
    "### **Step 1: Import Necessary Libraries**\n",
    "\n",
    "Although libraries only need to be installed once, we need to import them in every new Jupyter Notebook or Python script. \n"
   ]
  },
  {
   "cell_type": "code",
   "execution_count": null,
   "metadata": {},
   "outputs": [],
   "source": [
    "import pandas as pd                   #Pandas: Provides data structures and data analysis tools (e.g., DataFrame for tabular data).\n",
    "import numpy as np                    #NumPy: Provides support for arrays, matrices, and high-level mathematical functions to operate on these data structures.\n",
    "import seaborn as sns                 #Seaborn: Based on Matplotlib, it provides a high-level interface for drawing attractive and informative statistical graphics.\n",
    "from matplotlib import pyplot as plt  #Matplotlib's pyplot: Used for creating static, interactive, and animated visualizations in Python."
   ]
  },
  {
   "cell_type": "markdown",
   "metadata": {},
   "source": [
    "***"
   ]
  },
  {
   "cell_type": "markdown",
   "metadata": {},
   "source": [
    "### **Step 2: Load and Inspect the Data**\n",
    "\n",
    "####  2.1\n",
    "\n",
    "- We will load the dataset `Chicago_Public_Schools_-_School_Progress_Reports_SY2223_20240122.csv` into a Pandas DataFrame using the `pd.read_csv()` function from the Pandas library. \n",
    "\n",
    "- Specify the file path as `'Data/Chicago_Public_Schools_-_School_Progress_Reports_SY2223_20240122.csv'`. \n",
    "\n",
    "- We will assign the resulting DataFrame to the variable `cps_data`. This will enable us to work with the CSV file data as a DataFrame in Pandas."
   ]
  },
  {
   "cell_type": "code",
   "execution_count": null,
   "metadata": {},
   "outputs": [],
   "source": [
    "cps_data = pd.read_csv('../Data/<name of .CSV file>') #add the name of the .CSV file "
   ]
  },
  {
   "cell_type": "markdown",
   "metadata": {},
   "source": [
    "#### 2.2 \n",
    "\n",
    "We'll take a look at the first few rows by using the name of the dataframe (`cps_data`) and the `.head()` function to understand the structure of the data."
   ]
  },
  {
   "cell_type": "code",
   "execution_count": null,
   "metadata": {},
   "outputs": [],
   "source": [
    "<dataframe name>.head() "
   ]
  },
  {
   "cell_type": "markdown",
   "metadata": {},
   "source": [
    "#### 2.3 \n",
    "\n",
    "The dataset is very big, but we only want to use some of the data. \n",
    "\n",
    "- We can take a look at all of the columnsby using `.columns` after the name of the dataframe.\n",
    "\n",
    "- Adding `.tolist()` to the end of the dataframe allows us to more easily read the data as a list<sup>*</sup>\n",
    "\n",
    "###### * Click \"scrollable element\" in VS code to scroll through the entire list."
   ]
  },
  {
   "cell_type": "code",
   "execution_count": null,
   "metadata": {},
   "outputs": [],
   "source": [
    "<dataframe name>.columns. #add function at the end that makes the array a list "
   ]
  },
  {
   "cell_type": "markdown",
   "metadata": {},
   "source": [
    "*** \n",
    "\n",
    "### **Step 3: Data Cleaning and Preperation**\n",
    "\n",
    "Before analyzing the data, let's ensure it is clean and formatted correctly."
   ]
  },
  {
   "cell_type": "markdown",
   "metadata": {},
   "source": [
    "#### 3.1 \n",
    "\n",
    "In this notebook, we only want to work with the following columns:\n",
    "\n",
    "- `School_ID`: Unique identifier for each school.\n",
    "\n",
    "- `Short_Name`: Abbreviated name of the school, used for easier identification.\n",
    "\n",
    "- `Zip`: Postal zip code where the school is located.\n",
    "\n",
    "- `Primary_Category`: Type of school, typically categorized as High School (HS), Middle School (MS), Elementary School (ES).\n",
    "\n",
    "- `Attainment_All_Grades_School_Pct`: The percentile ranking of the school's overall performance across all grades compared to the national average.\n",
    "\n",
    "- `Attainment_PSAT_Grade_9_School_Pct`: The percentile ranking of the school's performance for 9th grade students taking the PSAT, compared to the national average.\n",
    "\n",
    "- `Attainment_PSAT_Grade_10_School_Pct`: The percentile ranking of the school's performance for 10th grade students taking the PSAT, compared to the national average.\n",
    "\n",
    "- `School_Survey_Involved_Families`: Survey results indicating the level of family involvement and engagement within the school community.\n",
    "\n",
    "- `School_Survey_Safety`: Survey results indicating the perceived safety within the school.\n",
    "\n",
    "- `School_Survey_Supportive_Environment`: Survey results indicating the perceived supportiveness of the school environment.\n",
    "\n",
    "We can select these columns from the `cps_data` dataframe and assign it to the same variable name.\n"
   ]
  },
  {
   "cell_type": "code",
   "execution_count": null,
   "metadata": {},
   "outputs": [],
   "source": [
    "cps_data = cps_data[['School_ID','Short_Name','Zip',...]] #add the additional columns... \n",
    "\n",
    "cps_data.head()"
   ]
  },
  {
   "cell_type": "markdown",
   "metadata": {},
   "source": [
    "#### 3.2\n",
    "\n",
    "For this dataset, we want to work only with High Schools. We can filter the dataset by \"dropping\" all of the schools that have `ES` in the `Primary Category` column."
   ]
  },
  {
   "cell_type": "code",
   "execution_count": null,
   "metadata": {},
   "outputs": [],
   "source": [
    "#drop Elementary Schools 'ES'\n",
    "cps_data = cps_data.drop(cps_data[cps_data['Primary_Category'] == 'ES'].index)\n",
    "\n",
    "#drop Middle Schools'MS'\n",
    "cps_data =  #Drop the rows with MS in the 'Primary_Category' column.\n",
    "\n",
    "\n",
    "cps_data = cps_data.reset_index(drop=True) #Resets a new index and drop the previous index \n",
    "cps_data = cps_data.dropna() # #Drop Rows with NA values\n",
    "\n",
    "\n",
    "cps_data.head()"
   ]
  },
  {
   "cell_type": "markdown",
   "metadata": {},
   "source": [
    "#### 3.3\n",
    "\n",
    "Next, we will convert school survey responses to an ordinal scale for analysis. "
   ]
  },
  {
   "cell_type": "code",
   "execution_count": null,
   "metadata": {},
   "outputs": [],
   "source": [
    "#Use to see all possible survey responses that will need to be converted to scale\n",
    "\n",
    "cps_data.<column>.unique() #use any survey-related column "
   ]
  },
  {
   "cell_type": "code",
   "execution_count": null,
   "metadata": {},
   "outputs": [],
   "source": [
    "# Convert school survey responses to an ordinal scale for analysis\n",
    "survey_map = {'VERY STRONG': 5, 'STRONG': 4,...} #complete the map with the other response values from the survey \n",
    "cps_data['School_Survey_Involved_Families'] = <dataframe>['School_Survey_Involved_Families'].map(<variable_for_survey_map>)\n",
    "cps_data['School_Survey_Safety'] = \n",
    "cps_data['School_Survey_Supportive_Environment'] =\n",
    "\n",
    "cps_data.head()"
   ]
  },
  {
   "cell_type": "markdown",
   "metadata": {},
   "source": [
    "#### 3.4 \n",
    "\n",
    "Next, we'll preform a data cleaning operation on the `cps_data` DataFrame, specifically targeting the columns listed in the attainment_columns list, which includes columns related to school attainment percentages. \n",
    "\n",
    "We will also fill missing values for attainment percentages with the mean of each column. \n",
    "* `.apply(lambda x: ...)`: The apply function is used to apply a function along the axis of the DataFrame (by default, column-wise). Here, it applies a lambda function to each column selected by cps_data[attainment_columns].\n",
    "\n",
    "* `lambda x: x.fillna(x.mean())`: This lambda function takes each column x (which represents one of the attainment metrics) and replaces all its missing values (NaN values) with the mean of that column. The fillna function is used for replacing missing values, and x.mean() computes the mean of the column excluding NaN values."
   ]
  },
  {
   "cell_type": "code",
   "execution_count": null,
   "metadata": {},
   "outputs": [],
   "source": [
    "# Designate the attainment columns. \n",
    "attainment_columns = ['Attainment_All_Grades_School_Pct',....] #fill in with all attainment-related columns \n",
    "\n",
    "#Fill in missing values with the mean of each column.\n",
    "cps_data[attainment_columns] = cps_data[attainment_columns].apply(lambda x: <function to fill NaN values with the mean of that column>)\n",
    "\n",
    "cps_data[attainment_columns].head()"
   ]
  },
  {
   "cell_type": "markdown",
   "metadata": {},
   "source": [
    "***\n",
    "\n",
    "### **Step 4: Data Analysis**\n",
    "Let's perform some basic data analysis to understand the performance and perceptions in different schools."
   ]
  },
  {
   "cell_type": "markdown",
   "metadata": {},
   "source": [
    "#### 4.1 School Performance by Zip Code"
   ]
  },
  {
   "cell_type": "code",
   "execution_count": null,
   "metadata": {},
   "outputs": [],
   "source": [
    "# Calculate average attainment for all grades by zip code\n",
    "average_attainment_by_zip = cps_data.groupby(<column you want to group by>)[attainment_columns].mean()\n",
    "\n",
    "# PLOTTING\n",
    "#<plot_type> Include 'line','scatter','bar','box', 'hist', and'pie'. Choose which is BEST. \n",
    "#<x>,<y>: Choose the dimensions of the figure \n",
    "average_attainment_by_zip.plot(kind=<plot_type>, figsize=(<x>, <y>), title=<Figure Title>) #<Figure Title>: Choose title for figure \n",
    "\n",
    "\n",
    "plt.ylabel('<yTitle>') #<yTitle>: Choose label for Y axis \n",
    "plt.show()"
   ]
  },
  {
   "cell_type": "markdown",
   "metadata": {},
   "source": [
    "#### 4.2 Correlation Between School Surveys and Performance\n",
    "\n",
    "Let's examine if there's any correlation between the school surveys and performance."
   ]
  },
  {
   "cell_type": "code",
   "execution_count": null,
   "metadata": {},
   "outputs": [],
   "source": [
    "# 1. Prepare a subset of relevant columns\n",
    "subset_data = cps_data[[<Relevant Columns>]]\n",
    "\n",
    "# 2. Calculate correlation matrix\n",
    "correlation_matrix = subset_data.corr()\n",
    "\n",
    "# 3. Plot the correlation matrix\n",
    "plt.figure___ #fill in\n",
    "plt.title___ #fill in \n",
    "#cmap options include: viridis, plasma,inferno,magma,cividis,coolwarm,flag,ocean, and more! \n",
    "sns.heatmap(correlation_matrix, annot=True, cmap=<cmap>, fmt=\".2f\") #fmt \n",
    "plt.show()"
   ]
  },
  {
   "cell_type": "markdown",
   "metadata": {},
   "source": [
    "#### 4.3 School Performance Distribution\n",
    "\n",
    "Finally, let's visualize the distribution (histogram) of school performances across all grades."
   ]
  },
  {
   "cell_type": "code",
   "execution_count": null,
   "metadata": {},
   "outputs": [],
   "source": [
    "# Plotting distribution of school performance (the attainment) across all grades\n",
    "cps_data[<column_name>].plot(kind=<plot_type>, bins=<bin_number>, figsize=, title=<Title>)\n",
    "plt.xlabel___\n",
    "plt.ylabel___\n",
    "plt.show()\n"
   ]
  },
  {
   "cell_type": "markdown",
   "metadata": {},
   "source": [
    "*** \n",
    "### Conclusion"
   ]
  },
  {
   "cell_type": "markdown",
   "metadata": {},
   "source": [
    "With a few extra lines of code, we can put these plots in subplots that are all in **one** figure. This tutorial walked you through the basic steps of loading, cleaning, and analyzing the Chicago Public Schools performance data. Through this analysis, we can gain insights into how schools perform across different regions and how different factors might correlate with school performance. Feel free to explore further and pose new questions as you dive deeper into the data."
   ]
  }
 ],
 "metadata": {
  "kernelspec": {
   "display_name": "Python 3",
   "language": "python",
   "name": "python3"
  },
  "language_info": {
   "codemirror_mode": {
    "name": "ipython",
    "version": 3
   },
   "file_extension": ".py",
   "mimetype": "text/x-python",
   "name": "python",
   "nbconvert_exporter": "python",
   "pygments_lexer": "ipython3",
   "version": "3.12.0"
  }
 },
 "nbformat": 4,
 "nbformat_minor": 2
}
